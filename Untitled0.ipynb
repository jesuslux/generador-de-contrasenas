{
  "nbformat": 4,
  "nbformat_minor": 0,
  "metadata": {
    "colab": {
      "provenance": [],
      "authorship_tag": "ABX9TyPYax465r5u8VrDgQN1Xqd4",
      "include_colab_link": true
    },
    "kernelspec": {
      "name": "python3",
      "display_name": "Python 3"
    },
    "language_info": {
      "name": "python"
    }
  },
  "cells": [
    {
      "cell_type": "markdown",
      "metadata": {
        "id": "view-in-github",
        "colab_type": "text"
      },
      "source": [
        "<a href=\"https://colab.research.google.com/github/jesuslux/generador-de-contrasenas/blob/main/Untitled0.ipynb\" target=\"_parent\"><img src=\"https://colab.research.google.com/assets/colab-badge.svg\" alt=\"Open In Colab\"/></a>"
      ]
    },
    {
      "cell_type": "code",
      "source": [
        "#generador de contraseña\n",
        "import re\n",
        "import secrets\n",
        "import string\n",
        "\n",
        "\n",
        "\n",
        "\n",
        "def generar_contraseña(longitud, nums, caracteres_especiales, mayusculas, minusculas):\n",
        "    # Define los posibles caracteres para la contraseña\n",
        "    letras = string.ascii_letters\n",
        "    digitos = string.digits\n",
        "    simbolos = string.punctuation\n",
        "\n",
        "    # Combina todos los caracteres\n",
        "    todos_los_caracteres = letras + digitos + simbolos\n",
        "\n",
        "    while True:\n",
        "        contraseña = ''\n",
        "        # Genera la contraseña\n",
        "        for _ in range(longitud):\n",
        "            contraseña += secrets.choice(todos_los_caracteres)\n",
        "\n",
        "        restricciones = [\n",
        "            (nums, r'\\d'),\n",
        "            (minusculas, r'[a-z]'),\n",
        "            (mayusculas, r'[A-Z]'),\n",
        "            (caracteres_especiales, fr'[{simbolos}]')\n",
        "        ]\n",
        "\n",
        "        # Verifica las restricciones\n",
        "        count = 0\n",
        "        for restriccion, patron in restricciones:\n",
        "            if restriccion <= len(re.findall(patron, contraseña)):\n",
        "                count += 1\n",
        "\n",
        "        if count == 4:\n",
        "            break\n",
        "\n",
        "    return contraseña\n",
        "\n",
        "nueva_contraseña = generar_contraseña(8, 2, 2, 2, 2)\n",
        "print(nueva_contraseña)"
      ],
      "metadata": {
        "colab": {
          "base_uri": "https://localhost:8080/"
        },
        "id": "9AYpYXlj2483",
        "outputId": "19c416c9-aada-4e6e-c841-0743df3757de"
      },
      "execution_count": 1,
      "outputs": [
        {
          "output_type": "stream",
          "name": "stdout",
          "text": [
            "uCy9W8@{\n"
          ]
        }
      ]
    },
    {
      "cell_type": "code",
      "source": [
        "def main():\n",
        "  print('Bievenidos al generador automatico de contraseña en google colab y python\\n')\n",
        "  longitud = input('Digite la longitud de la contraseña: ')\n",
        "  numeros = input('Digite la coantidad de numero que desea en su contraseña')\n",
        "  caracteres_especiales = input('Digite la cantidad de caracteres especiales que desea en su contraseña: ')\n",
        "  mayusculas = input('Digite la cantidad de mayusculas que desea en su cantraseña: ')\n",
        "  minusculas = input('Digite la cantidad de minusculas que desea en su contraseña: ')\n",
        "\n",
        "  if longitud.isdigit() and numeros.isdigit() and caracteres_especiales.isdigit() and mayusculas.isdigit() and minusculas.isdigit():\n",
        "    long = int(longitud)\n",
        "    num = int(numeros)\n",
        "    chars = int(caracteres_especiales)\n",
        "    mayus = int(mayusculas)\n",
        "    minus = int(minusculas)\n",
        "    password = generar_contraseña(long, num, chars, mayus, minus)\n",
        "    print(f'la nueva contraseña generada es: {password}')\n",
        "  else:\n",
        "    print('favor de escribir numeros enteros. ')\n",
        "    main()"
      ],
      "metadata": {
        "id": "rIVoGrCJ26kW"
      },
      "execution_count": 2,
      "outputs": []
    },
    {
      "cell_type": "code",
      "source": [
        "main()"
      ],
      "metadata": {
        "colab": {
          "base_uri": "https://localhost:8080/"
        },
        "id": "xAUuKvrY3Obu",
        "outputId": "47ca4ff6-8c6d-4d77-b8d8-e17406200337"
      },
      "execution_count": null,
      "outputs": [
        {
          "output_type": "stream",
          "name": "stdout",
          "text": [
            "Bievenidos al generador automatico de contraseña en google colab y python\n",
            "\n"
          ]
        }
      ]
    }
  ]
}